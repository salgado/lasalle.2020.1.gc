{
  "nbformat": 4,
  "nbformat_minor": 0,
  "metadata": {
    "colab": {
      "name": "Aula1DataScience2205.ipynb",
      "provenance": []
    },
    "kernelspec": {
      "name": "python3",
      "display_name": "Python 3"
    }
  },
  "cells": [
    {
      "cell_type": "code",
      "metadata": {
        "id": "KPGGcZ77endt",
        "colab_type": "code",
        "colab": {
          "base_uri": "https://localhost:8080/",
          "height": 34
        },
        "outputId": "5f1377e2-f4f1-446b-99ce-38ac5eb373fa"
      },
      "source": [
        "print(\"Olá Mundo\")"
      ],
      "execution_count": 5,
      "outputs": [
        {
          "output_type": "stream",
          "text": [
            "Olá Mundo\n"
          ],
          "name": "stdout"
        }
      ]
    },
    {
      "cell_type": "code",
      "metadata": {
        "id": "EMDMZ0c3gOdD",
        "colab_type": "code",
        "colab": {}
      },
      "source": [
        ""
      ],
      "execution_count": 0,
      "outputs": []
    },
    {
      "cell_type": "markdown",
      "metadata": {
        "id": "466PClVDgSFF",
        "colab_type": "text"
      },
      "source": [
        "***Aula de DataScience***"
      ]
    },
    {
      "cell_type": "code",
      "metadata": {
        "id": "bcwdjDAIgrP0",
        "colab_type": "code",
        "colab": {
          "base_uri": "https://localhost:8080/",
          "height": 34
        },
        "outputId": "2aa995a5-8bd6-4da8-d880-59b77fb1591b"
      },
      "source": [
        "print(\"SHIFT\")"
      ],
      "execution_count": 3,
      "outputs": [
        {
          "output_type": "stream",
          "text": [
            "SHIFT\n"
          ],
          "name": "stdout"
        }
      ]
    },
    {
      "cell_type": "code",
      "metadata": {
        "id": "E34hj_JRg1rJ",
        "colab_type": "code",
        "colab": {}
      },
      "source": [
        "import pandas as pd\n",
        "import numpy as np\n"
      ],
      "execution_count": 0,
      "outputs": []
    },
    {
      "cell_type": "code",
      "metadata": {
        "id": "C3O0bPzJhp3-",
        "colab_type": "code",
        "colab": {
          "base_uri": "https://localhost:8080/",
          "height": 84
        },
        "outputId": "b72136de-639a-4869-ae8e-0ad510b30199"
      },
      "source": [
        "pd.Series([\"Aluno1\",\"Aluno 2\", \"Aluno 3\"])"
      ],
      "execution_count": 6,
      "outputs": [
        {
          "output_type": "execute_result",
          "data": {
            "text/plain": [
              "0     Aluno1\n",
              "1    Aluno 2\n",
              "2    Aluno 3\n",
              "dtype: object"
            ]
          },
          "metadata": {
            "tags": []
          },
          "execution_count": 6
        }
      ]
    },
    {
      "cell_type": "code",
      "metadata": {
        "id": "LfcL4I99iKn1",
        "colab_type": "code",
        "colab": {}
      },
      "source": [
        "nome = pd.Series([\"Aluno1\",\"Aluno 2\", \"Aluno 3\"])"
      ],
      "execution_count": 0,
      "outputs": []
    },
    {
      "cell_type": "code",
      "metadata": {
        "id": "wuZT78F8icW1",
        "colab_type": "code",
        "colab": {
          "base_uri": "https://localhost:8080/",
          "height": 84
        },
        "outputId": "2929c515-f44d-4812-db1c-81134154e069"
      },
      "source": [
        "nome"
      ],
      "execution_count": 8,
      "outputs": [
        {
          "output_type": "execute_result",
          "data": {
            "text/plain": [
              "0     Aluno1\n",
              "1    Aluno 2\n",
              "2    Aluno 3\n",
              "dtype: object"
            ]
          },
          "metadata": {
            "tags": []
          },
          "execution_count": 8
        }
      ]
    },
    {
      "cell_type": "code",
      "metadata": {
        "id": "Df0kyD7Qigy4",
        "colab_type": "code",
        "colab": {
          "base_uri": "https://localhost:8080/",
          "height": 67
        },
        "outputId": "a03f97e0-f8a2-425e-c6a0-e011acaced51"
      },
      "source": [
        "nome[:2]"
      ],
      "execution_count": 9,
      "outputs": [
        {
          "output_type": "execute_result",
          "data": {
            "text/plain": [
              "0     Aluno1\n",
              "1    Aluno 2\n",
              "dtype: object"
            ]
          },
          "metadata": {
            "tags": []
          },
          "execution_count": 9
        }
      ]
    },
    {
      "cell_type": "code",
      "metadata": {
        "id": "wLoGFk1ci8AW",
        "colab_type": "code",
        "colab": {
          "base_uri": "https://localhost:8080/",
          "height": 34
        },
        "outputId": "904bdc22-b47a-4849-8e96-3e0c70e7c166"
      },
      "source": [
        "nome[1]"
      ],
      "execution_count": 17,
      "outputs": [
        {
          "output_type": "execute_result",
          "data": {
            "text/plain": [
              "'Aluno 2'"
            ]
          },
          "metadata": {
            "tags": []
          },
          "execution_count": 17
        }
      ]
    },
    {
      "cell_type": "code",
      "metadata": {
        "id": "Dsh5wQ1yjCPe",
        "colab_type": "code",
        "colab": {}
      },
      "source": [
        ""
      ],
      "execution_count": 0,
      "outputs": []
    },
    {
      "cell_type": "markdown",
      "metadata": {
        "id": "DDzNofRnkLGK",
        "colab_type": "text"
      },
      "source": [
        "Trabalhando com Dataframes"
      ]
    },
    {
      "cell_type": "code",
      "metadata": {
        "id": "p-FyVOn5kO6Y",
        "colab_type": "code",
        "colab": {}
      },
      "source": [
        "alunos = pd.DataFrame(nome, columns=[\"Nome\"])"
      ],
      "execution_count": 0,
      "outputs": []
    },
    {
      "cell_type": "code",
      "metadata": {
        "id": "76frIa0mktMT",
        "colab_type": "code",
        "colab": {
          "base_uri": "https://localhost:8080/",
          "height": 136
        },
        "outputId": "94516495-6492-47a4-e5fa-f5854c60301c"
      },
      "source": [
        "alunos"
      ],
      "execution_count": 20,
      "outputs": [
        {
          "output_type": "execute_result",
          "data": {
            "text/html": [
              "<div>\n",
              "<style scoped>\n",
              "    .dataframe tbody tr th:only-of-type {\n",
              "        vertical-align: middle;\n",
              "    }\n",
              "\n",
              "    .dataframe tbody tr th {\n",
              "        vertical-align: top;\n",
              "    }\n",
              "\n",
              "    .dataframe thead th {\n",
              "        text-align: right;\n",
              "    }\n",
              "</style>\n",
              "<table border=\"1\" class=\"dataframe\">\n",
              "  <thead>\n",
              "    <tr style=\"text-align: right;\">\n",
              "      <th></th>\n",
              "      <th>Nome</th>\n",
              "    </tr>\n",
              "  </thead>\n",
              "  <tbody>\n",
              "    <tr>\n",
              "      <th>0</th>\n",
              "      <td>Aluno1</td>\n",
              "    </tr>\n",
              "    <tr>\n",
              "      <th>1</th>\n",
              "      <td>Aluno 2</td>\n",
              "    </tr>\n",
              "    <tr>\n",
              "      <th>2</th>\n",
              "      <td>Aluno 3</td>\n",
              "    </tr>\n",
              "  </tbody>\n",
              "</table>\n",
              "</div>"
            ],
            "text/plain": [
              "      Nome\n",
              "0   Aluno1\n",
              "1  Aluno 2\n",
              "2  Aluno 3"
            ]
          },
          "metadata": {
            "tags": []
          },
          "execution_count": 20
        }
      ]
    },
    {
      "cell_type": "code",
      "metadata": {
        "id": "Q9yilYfkk08G",
        "colab_type": "code",
        "colab": {}
      },
      "source": [
        "alunos['AV1'] = [1.0, 5.5, 6.0]"
      ],
      "execution_count": 0,
      "outputs": []
    },
    {
      "cell_type": "code",
      "metadata": {
        "id": "jl3jVD3UlPhk",
        "colab_type": "code",
        "colab": {
          "base_uri": "https://localhost:8080/",
          "height": 136
        },
        "outputId": "38c1c8bc-fe01-41ee-b61d-4df7f6ca61aa"
      },
      "source": [
        "alunos"
      ],
      "execution_count": 22,
      "outputs": [
        {
          "output_type": "execute_result",
          "data": {
            "text/html": [
              "<div>\n",
              "<style scoped>\n",
              "    .dataframe tbody tr th:only-of-type {\n",
              "        vertical-align: middle;\n",
              "    }\n",
              "\n",
              "    .dataframe tbody tr th {\n",
              "        vertical-align: top;\n",
              "    }\n",
              "\n",
              "    .dataframe thead th {\n",
              "        text-align: right;\n",
              "    }\n",
              "</style>\n",
              "<table border=\"1\" class=\"dataframe\">\n",
              "  <thead>\n",
              "    <tr style=\"text-align: right;\">\n",
              "      <th></th>\n",
              "      <th>Nome</th>\n",
              "      <th>AV1</th>\n",
              "    </tr>\n",
              "  </thead>\n",
              "  <tbody>\n",
              "    <tr>\n",
              "      <th>0</th>\n",
              "      <td>Aluno1</td>\n",
              "      <td>1.0</td>\n",
              "    </tr>\n",
              "    <tr>\n",
              "      <th>1</th>\n",
              "      <td>Aluno 2</td>\n",
              "      <td>5.5</td>\n",
              "    </tr>\n",
              "    <tr>\n",
              "      <th>2</th>\n",
              "      <td>Aluno 3</td>\n",
              "      <td>6.0</td>\n",
              "    </tr>\n",
              "  </tbody>\n",
              "</table>\n",
              "</div>"
            ],
            "text/plain": [
              "      Nome  AV1\n",
              "0   Aluno1  1.0\n",
              "1  Aluno 2  5.5\n",
              "2  Aluno 3  6.0"
            ]
          },
          "metadata": {
            "tags": []
          },
          "execution_count": 22
        }
      ]
    },
    {
      "cell_type": "code",
      "metadata": {
        "id": "nvLm9JM6lR0S",
        "colab_type": "code",
        "colab": {}
      },
      "source": [
        "alunos['AV2'] = [10.0, 7.0, 6.0]"
      ],
      "execution_count": 0,
      "outputs": []
    },
    {
      "cell_type": "code",
      "metadata": {
        "id": "Bv3meygElodB",
        "colab_type": "code",
        "colab": {
          "base_uri": "https://localhost:8080/",
          "height": 136
        },
        "outputId": "2ba011f7-cc94-4b51-ac38-0fe930bde8cc"
      },
      "source": [
        "alunos"
      ],
      "execution_count": 24,
      "outputs": [
        {
          "output_type": "execute_result",
          "data": {
            "text/html": [
              "<div>\n",
              "<style scoped>\n",
              "    .dataframe tbody tr th:only-of-type {\n",
              "        vertical-align: middle;\n",
              "    }\n",
              "\n",
              "    .dataframe tbody tr th {\n",
              "        vertical-align: top;\n",
              "    }\n",
              "\n",
              "    .dataframe thead th {\n",
              "        text-align: right;\n",
              "    }\n",
              "</style>\n",
              "<table border=\"1\" class=\"dataframe\">\n",
              "  <thead>\n",
              "    <tr style=\"text-align: right;\">\n",
              "      <th></th>\n",
              "      <th>Nome</th>\n",
              "      <th>AV1</th>\n",
              "      <th>AV2</th>\n",
              "    </tr>\n",
              "  </thead>\n",
              "  <tbody>\n",
              "    <tr>\n",
              "      <th>0</th>\n",
              "      <td>Aluno1</td>\n",
              "      <td>1.0</td>\n",
              "      <td>10.0</td>\n",
              "    </tr>\n",
              "    <tr>\n",
              "      <th>1</th>\n",
              "      <td>Aluno 2</td>\n",
              "      <td>5.5</td>\n",
              "      <td>7.0</td>\n",
              "    </tr>\n",
              "    <tr>\n",
              "      <th>2</th>\n",
              "      <td>Aluno 3</td>\n",
              "      <td>6.0</td>\n",
              "      <td>6.0</td>\n",
              "    </tr>\n",
              "  </tbody>\n",
              "</table>\n",
              "</div>"
            ],
            "text/plain": [
              "      Nome  AV1   AV2\n",
              "0   Aluno1  1.0  10.0\n",
              "1  Aluno 2  5.5   7.0\n",
              "2  Aluno 3  6.0   6.0"
            ]
          },
          "metadata": {
            "tags": []
          },
          "execution_count": 24
        }
      ]
    },
    {
      "cell_type": "code",
      "metadata": {
        "id": "I2aFh2kFlp5k",
        "colab_type": "code",
        "colab": {}
      },
      "source": [
        "alunos['media'] = (alunos['AV1']+alunos['AV2'])/2"
      ],
      "execution_count": 0,
      "outputs": []
    },
    {
      "cell_type": "code",
      "metadata": {
        "id": "yXF_qfmsmOdE",
        "colab_type": "code",
        "colab": {
          "base_uri": "https://localhost:8080/",
          "height": 136
        },
        "outputId": "699e4f6c-6050-4ab5-9407-ced226ab139f"
      },
      "source": [
        "alunos"
      ],
      "execution_count": 26,
      "outputs": [
        {
          "output_type": "execute_result",
          "data": {
            "text/html": [
              "<div>\n",
              "<style scoped>\n",
              "    .dataframe tbody tr th:only-of-type {\n",
              "        vertical-align: middle;\n",
              "    }\n",
              "\n",
              "    .dataframe tbody tr th {\n",
              "        vertical-align: top;\n",
              "    }\n",
              "\n",
              "    .dataframe thead th {\n",
              "        text-align: right;\n",
              "    }\n",
              "</style>\n",
              "<table border=\"1\" class=\"dataframe\">\n",
              "  <thead>\n",
              "    <tr style=\"text-align: right;\">\n",
              "      <th></th>\n",
              "      <th>Nome</th>\n",
              "      <th>AV1</th>\n",
              "      <th>AV2</th>\n",
              "      <th>media</th>\n",
              "    </tr>\n",
              "  </thead>\n",
              "  <tbody>\n",
              "    <tr>\n",
              "      <th>0</th>\n",
              "      <td>Aluno1</td>\n",
              "      <td>1.0</td>\n",
              "      <td>10.0</td>\n",
              "      <td>5.50</td>\n",
              "    </tr>\n",
              "    <tr>\n",
              "      <th>1</th>\n",
              "      <td>Aluno 2</td>\n",
              "      <td>5.5</td>\n",
              "      <td>7.0</td>\n",
              "      <td>6.25</td>\n",
              "    </tr>\n",
              "    <tr>\n",
              "      <th>2</th>\n",
              "      <td>Aluno 3</td>\n",
              "      <td>6.0</td>\n",
              "      <td>6.0</td>\n",
              "      <td>6.00</td>\n",
              "    </tr>\n",
              "  </tbody>\n",
              "</table>\n",
              "</div>"
            ],
            "text/plain": [
              "      Nome  AV1   AV2  media\n",
              "0   Aluno1  1.0  10.0   5.50\n",
              "1  Aluno 2  5.5   7.0   6.25\n",
              "2  Aluno 3  6.0   6.0   6.00"
            ]
          },
          "metadata": {
            "tags": []
          },
          "execution_count": 26
        }
      ]
    },
    {
      "cell_type": "code",
      "metadata": {
        "id": "33Q_2grpmP0e",
        "colab_type": "code",
        "colab": {}
      },
      "source": [
        "alunos['resultado'] = np.where(alunos['media']>=6.0, \"Aprovado\", \"Reprovado\")"
      ],
      "execution_count": 0,
      "outputs": []
    },
    {
      "cell_type": "code",
      "metadata": {
        "id": "JBvXzA7pm7YY",
        "colab_type": "code",
        "colab": {
          "base_uri": "https://localhost:8080/",
          "height": 136
        },
        "outputId": "3f42414d-b1dc-4343-9d7a-a710a4b706f6"
      },
      "source": [
        "alunos"
      ],
      "execution_count": 28,
      "outputs": [
        {
          "output_type": "execute_result",
          "data": {
            "text/html": [
              "<div>\n",
              "<style scoped>\n",
              "    .dataframe tbody tr th:only-of-type {\n",
              "        vertical-align: middle;\n",
              "    }\n",
              "\n",
              "    .dataframe tbody tr th {\n",
              "        vertical-align: top;\n",
              "    }\n",
              "\n",
              "    .dataframe thead th {\n",
              "        text-align: right;\n",
              "    }\n",
              "</style>\n",
              "<table border=\"1\" class=\"dataframe\">\n",
              "  <thead>\n",
              "    <tr style=\"text-align: right;\">\n",
              "      <th></th>\n",
              "      <th>Nome</th>\n",
              "      <th>AV1</th>\n",
              "      <th>AV2</th>\n",
              "      <th>media</th>\n",
              "      <th>resultado</th>\n",
              "    </tr>\n",
              "  </thead>\n",
              "  <tbody>\n",
              "    <tr>\n",
              "      <th>0</th>\n",
              "      <td>Aluno1</td>\n",
              "      <td>1.0</td>\n",
              "      <td>10.0</td>\n",
              "      <td>5.50</td>\n",
              "      <td>Reprovado</td>\n",
              "    </tr>\n",
              "    <tr>\n",
              "      <th>1</th>\n",
              "      <td>Aluno 2</td>\n",
              "      <td>5.5</td>\n",
              "      <td>7.0</td>\n",
              "      <td>6.25</td>\n",
              "      <td>Aprovado</td>\n",
              "    </tr>\n",
              "    <tr>\n",
              "      <th>2</th>\n",
              "      <td>Aluno 3</td>\n",
              "      <td>6.0</td>\n",
              "      <td>6.0</td>\n",
              "      <td>6.00</td>\n",
              "      <td>Aprovado</td>\n",
              "    </tr>\n",
              "  </tbody>\n",
              "</table>\n",
              "</div>"
            ],
            "text/plain": [
              "      Nome  AV1   AV2  media  resultado\n",
              "0   Aluno1  1.0  10.0   5.50  Reprovado\n",
              "1  Aluno 2  5.5   7.0   6.25   Aprovado\n",
              "2  Aluno 3  6.0   6.0   6.00   Aprovado"
            ]
          },
          "metadata": {
            "tags": []
          },
          "execution_count": 28
        }
      ]
    },
    {
      "cell_type": "code",
      "metadata": {
        "id": "bzo9LqZym8Rl",
        "colab_type": "code",
        "colab": {
          "base_uri": "https://localhost:8080/",
          "height": 136
        },
        "outputId": "9a067d83-c5b0-4e57-c524-793ce13ead47"
      },
      "source": [
        "alunos.sort_values(by = 'media')"
      ],
      "execution_count": 30,
      "outputs": [
        {
          "output_type": "execute_result",
          "data": {
            "text/html": [
              "<div>\n",
              "<style scoped>\n",
              "    .dataframe tbody tr th:only-of-type {\n",
              "        vertical-align: middle;\n",
              "    }\n",
              "\n",
              "    .dataframe tbody tr th {\n",
              "        vertical-align: top;\n",
              "    }\n",
              "\n",
              "    .dataframe thead th {\n",
              "        text-align: right;\n",
              "    }\n",
              "</style>\n",
              "<table border=\"1\" class=\"dataframe\">\n",
              "  <thead>\n",
              "    <tr style=\"text-align: right;\">\n",
              "      <th></th>\n",
              "      <th>Nome</th>\n",
              "      <th>AV1</th>\n",
              "      <th>AV2</th>\n",
              "      <th>media</th>\n",
              "      <th>resultado</th>\n",
              "    </tr>\n",
              "  </thead>\n",
              "  <tbody>\n",
              "    <tr>\n",
              "      <th>0</th>\n",
              "      <td>Aluno1</td>\n",
              "      <td>1.0</td>\n",
              "      <td>10.0</td>\n",
              "      <td>5.50</td>\n",
              "      <td>Reprovado</td>\n",
              "    </tr>\n",
              "    <tr>\n",
              "      <th>2</th>\n",
              "      <td>Aluno 3</td>\n",
              "      <td>6.0</td>\n",
              "      <td>6.0</td>\n",
              "      <td>6.00</td>\n",
              "      <td>Aprovado</td>\n",
              "    </tr>\n",
              "    <tr>\n",
              "      <th>1</th>\n",
              "      <td>Aluno 2</td>\n",
              "      <td>5.5</td>\n",
              "      <td>7.0</td>\n",
              "      <td>6.25</td>\n",
              "      <td>Aprovado</td>\n",
              "    </tr>\n",
              "  </tbody>\n",
              "</table>\n",
              "</div>"
            ],
            "text/plain": [
              "      Nome  AV1   AV2  media  resultado\n",
              "0   Aluno1  1.0  10.0   5.50  Reprovado\n",
              "2  Aluno 3  6.0   6.0   6.00   Aprovado\n",
              "1  Aluno 2  5.5   7.0   6.25   Aprovado"
            ]
          },
          "metadata": {
            "tags": []
          },
          "execution_count": 30
        }
      ]
    },
    {
      "cell_type": "code",
      "metadata": {
        "id": "l32eybENnsYw",
        "colab_type": "code",
        "colab": {
          "base_uri": "https://localhost:8080/",
          "height": 106
        },
        "outputId": "10304295-7ad1-4e18-d7c9-ad2b02f6cfa7"
      },
      "source": [
        "alunos[alunos['resultado'] == 'Aprovado']"
      ],
      "execution_count": 31,
      "outputs": [
        {
          "output_type": "execute_result",
          "data": {
            "text/html": [
              "<div>\n",
              "<style scoped>\n",
              "    .dataframe tbody tr th:only-of-type {\n",
              "        vertical-align: middle;\n",
              "    }\n",
              "\n",
              "    .dataframe tbody tr th {\n",
              "        vertical-align: top;\n",
              "    }\n",
              "\n",
              "    .dataframe thead th {\n",
              "        text-align: right;\n",
              "    }\n",
              "</style>\n",
              "<table border=\"1\" class=\"dataframe\">\n",
              "  <thead>\n",
              "    <tr style=\"text-align: right;\">\n",
              "      <th></th>\n",
              "      <th>Nome</th>\n",
              "      <th>AV1</th>\n",
              "      <th>AV2</th>\n",
              "      <th>media</th>\n",
              "      <th>resultado</th>\n",
              "    </tr>\n",
              "  </thead>\n",
              "  <tbody>\n",
              "    <tr>\n",
              "      <th>1</th>\n",
              "      <td>Aluno 2</td>\n",
              "      <td>5.5</td>\n",
              "      <td>7.0</td>\n",
              "      <td>6.25</td>\n",
              "      <td>Aprovado</td>\n",
              "    </tr>\n",
              "    <tr>\n",
              "      <th>2</th>\n",
              "      <td>Aluno 3</td>\n",
              "      <td>6.0</td>\n",
              "      <td>6.0</td>\n",
              "      <td>6.00</td>\n",
              "      <td>Aprovado</td>\n",
              "    </tr>\n",
              "  </tbody>\n",
              "</table>\n",
              "</div>"
            ],
            "text/plain": [
              "      Nome  AV1  AV2  media resultado\n",
              "1  Aluno 2  5.5  7.0   6.25  Aprovado\n",
              "2  Aluno 3  6.0  6.0   6.00  Aprovado"
            ]
          },
          "metadata": {
            "tags": []
          },
          "execution_count": 31
        }
      ]
    },
    {
      "cell_type": "code",
      "metadata": {
        "id": "tOuI21s_oTb1",
        "colab_type": "code",
        "colab": {
          "base_uri": "https://localhost:8080/",
          "height": 284
        },
        "outputId": "77b6f390-b670-4bb2-9c5c-1640ed35f8d5"
      },
      "source": [
        "alunos.describe()"
      ],
      "execution_count": 32,
      "outputs": [
        {
          "output_type": "execute_result",
          "data": {
            "text/html": [
              "<div>\n",
              "<style scoped>\n",
              "    .dataframe tbody tr th:only-of-type {\n",
              "        vertical-align: middle;\n",
              "    }\n",
              "\n",
              "    .dataframe tbody tr th {\n",
              "        vertical-align: top;\n",
              "    }\n",
              "\n",
              "    .dataframe thead th {\n",
              "        text-align: right;\n",
              "    }\n",
              "</style>\n",
              "<table border=\"1\" class=\"dataframe\">\n",
              "  <thead>\n",
              "    <tr style=\"text-align: right;\">\n",
              "      <th></th>\n",
              "      <th>AV1</th>\n",
              "      <th>AV2</th>\n",
              "      <th>media</th>\n",
              "    </tr>\n",
              "  </thead>\n",
              "  <tbody>\n",
              "    <tr>\n",
              "      <th>count</th>\n",
              "      <td>3.000000</td>\n",
              "      <td>3.000000</td>\n",
              "      <td>3.000000</td>\n",
              "    </tr>\n",
              "    <tr>\n",
              "      <th>mean</th>\n",
              "      <td>4.166667</td>\n",
              "      <td>7.666667</td>\n",
              "      <td>5.916667</td>\n",
              "    </tr>\n",
              "    <tr>\n",
              "      <th>std</th>\n",
              "      <td>2.753785</td>\n",
              "      <td>2.081666</td>\n",
              "      <td>0.381881</td>\n",
              "    </tr>\n",
              "    <tr>\n",
              "      <th>min</th>\n",
              "      <td>1.000000</td>\n",
              "      <td>6.000000</td>\n",
              "      <td>5.500000</td>\n",
              "    </tr>\n",
              "    <tr>\n",
              "      <th>25%</th>\n",
              "      <td>3.250000</td>\n",
              "      <td>6.500000</td>\n",
              "      <td>5.750000</td>\n",
              "    </tr>\n",
              "    <tr>\n",
              "      <th>50%</th>\n",
              "      <td>5.500000</td>\n",
              "      <td>7.000000</td>\n",
              "      <td>6.000000</td>\n",
              "    </tr>\n",
              "    <tr>\n",
              "      <th>75%</th>\n",
              "      <td>5.750000</td>\n",
              "      <td>8.500000</td>\n",
              "      <td>6.125000</td>\n",
              "    </tr>\n",
              "    <tr>\n",
              "      <th>max</th>\n",
              "      <td>6.000000</td>\n",
              "      <td>10.000000</td>\n",
              "      <td>6.250000</td>\n",
              "    </tr>\n",
              "  </tbody>\n",
              "</table>\n",
              "</div>"
            ],
            "text/plain": [
              "            AV1        AV2     media\n",
              "count  3.000000   3.000000  3.000000\n",
              "mean   4.166667   7.666667  5.916667\n",
              "std    2.753785   2.081666  0.381881\n",
              "min    1.000000   6.000000  5.500000\n",
              "25%    3.250000   6.500000  5.750000\n",
              "50%    5.500000   7.000000  6.000000\n",
              "75%    5.750000   8.500000  6.125000\n",
              "max    6.000000  10.000000  6.250000"
            ]
          },
          "metadata": {
            "tags": []
          },
          "execution_count": 32
        }
      ]
    },
    {
      "cell_type": "code",
      "metadata": {
        "id": "bnkreAQ2ohxp",
        "colab_type": "code",
        "colab": {}
      },
      "source": [
        ""
      ],
      "execution_count": 0,
      "outputs": []
    },
    {
      "cell_type": "markdown",
      "metadata": {
        "id": "-ewrpzp1pJ3y",
        "colab_type": "text"
      },
      "source": [
        "Lendo arquivos"
      ]
    },
    {
      "cell_type": "code",
      "metadata": {
        "id": "LgAWWG-apLYX",
        "colab_type": "code",
        "colab": {}
      },
      "source": [
        "arquivo = pd.read_csv(\"https://raw.githubusercontent.com/salgado/lasalle.sad.repo.datas/master/disciplinas.csv\")"
      ],
      "execution_count": 0,
      "outputs": []
    },
    {
      "cell_type": "code",
      "metadata": {
        "id": "HCoD4R_Tp5pO",
        "colab_type": "code",
        "colab": {
          "base_uri": "https://localhost:8080/",
          "height": 301
        },
        "outputId": "c6d8a1e6-7934-4cbe-93f5-9fcd66fbb1ef"
      },
      "source": [
        "arquivo.describe()"
      ],
      "execution_count": 35,
      "outputs": [
        {
          "output_type": "execute_result",
          "data": {
            "text/html": [
              "<div>\n",
              "<style scoped>\n",
              "    .dataframe tbody tr th:only-of-type {\n",
              "        vertical-align: middle;\n",
              "    }\n",
              "\n",
              "    .dataframe tbody tr th {\n",
              "        vertical-align: top;\n",
              "    }\n",
              "\n",
              "    .dataframe thead th {\n",
              "        text-align: right;\n",
              "    }\n",
              "</style>\n",
              "<table border=\"1\" class=\"dataframe\">\n",
              "  <thead>\n",
              "    <tr style=\"text-align: right;\">\n",
              "      <th></th>\n",
              "      <th>Matricula</th>\n",
              "      <th>1-Avalie de 1 a 5</th>\n",
              "      <th>2-Avalie de 1 a 5</th>\n",
              "      <th>3-Avalie de 1 a 5</th>\n",
              "      <th>4-Avalie de 1 a 5</th>\n",
              "      <th>5-Avalie de 1 a 5</th>\n",
              "      <th>6-Avalie de 1 a 5</th>\n",
              "      <th>7-Avalie de 1 a 5</th>\n",
              "    </tr>\n",
              "  </thead>\n",
              "  <tbody>\n",
              "    <tr>\n",
              "      <th>count</th>\n",
              "      <td>2.800000e+01</td>\n",
              "      <td>31.000000</td>\n",
              "      <td>27.000000</td>\n",
              "      <td>25.000000</td>\n",
              "      <td>21.000000</td>\n",
              "      <td>11.00000</td>\n",
              "      <td>5.000000</td>\n",
              "      <td>1.0</td>\n",
              "    </tr>\n",
              "    <tr>\n",
              "      <th>mean</th>\n",
              "      <td>5.001389e+07</td>\n",
              "      <td>2.225806</td>\n",
              "      <td>2.814815</td>\n",
              "      <td>3.520000</td>\n",
              "      <td>4.095238</td>\n",
              "      <td>4.00000</td>\n",
              "      <td>4.800000</td>\n",
              "      <td>5.0</td>\n",
              "    </tr>\n",
              "    <tr>\n",
              "      <th>std</th>\n",
              "      <td>2.276152e+03</td>\n",
              "      <td>1.745655</td>\n",
              "      <td>1.210119</td>\n",
              "      <td>0.822598</td>\n",
              "      <td>0.436436</td>\n",
              "      <td>1.48324</td>\n",
              "      <td>0.447214</td>\n",
              "      <td>NaN</td>\n",
              "    </tr>\n",
              "    <tr>\n",
              "      <th>min</th>\n",
              "      <td>5.000977e+07</td>\n",
              "      <td>1.000000</td>\n",
              "      <td>2.000000</td>\n",
              "      <td>3.000000</td>\n",
              "      <td>3.000000</td>\n",
              "      <td>1.00000</td>\n",
              "      <td>4.000000</td>\n",
              "      <td>5.0</td>\n",
              "    </tr>\n",
              "    <tr>\n",
              "      <th>25%</th>\n",
              "      <td>5.001206e+07</td>\n",
              "      <td>1.000000</td>\n",
              "      <td>2.000000</td>\n",
              "      <td>3.000000</td>\n",
              "      <td>4.000000</td>\n",
              "      <td>3.00000</td>\n",
              "      <td>5.000000</td>\n",
              "      <td>5.0</td>\n",
              "    </tr>\n",
              "    <tr>\n",
              "      <th>50%</th>\n",
              "      <td>5.001450e+07</td>\n",
              "      <td>1.000000</td>\n",
              "      <td>2.000000</td>\n",
              "      <td>3.000000</td>\n",
              "      <td>4.000000</td>\n",
              "      <td>5.00000</td>\n",
              "      <td>5.000000</td>\n",
              "      <td>5.0</td>\n",
              "    </tr>\n",
              "    <tr>\n",
              "      <th>75%</th>\n",
              "      <td>5.001585e+07</td>\n",
              "      <td>4.000000</td>\n",
              "      <td>3.500000</td>\n",
              "      <td>4.000000</td>\n",
              "      <td>4.000000</td>\n",
              "      <td>5.00000</td>\n",
              "      <td>5.000000</td>\n",
              "      <td>5.0</td>\n",
              "    </tr>\n",
              "    <tr>\n",
              "      <th>max</th>\n",
              "      <td>5.001697e+07</td>\n",
              "      <td>5.000000</td>\n",
              "      <td>5.000000</td>\n",
              "      <td>5.000000</td>\n",
              "      <td>5.000000</td>\n",
              "      <td>5.00000</td>\n",
              "      <td>5.000000</td>\n",
              "      <td>5.0</td>\n",
              "    </tr>\n",
              "  </tbody>\n",
              "</table>\n",
              "</div>"
            ],
            "text/plain": [
              "          Matricula  1-Avalie de 1 a 5  ...  6-Avalie de 1 a 5  7-Avalie de 1 a 5\n",
              "count  2.800000e+01          31.000000  ...           5.000000                1.0\n",
              "mean   5.001389e+07           2.225806  ...           4.800000                5.0\n",
              "std    2.276152e+03           1.745655  ...           0.447214                NaN\n",
              "min    5.000977e+07           1.000000  ...           4.000000                5.0\n",
              "25%    5.001206e+07           1.000000  ...           5.000000                5.0\n",
              "50%    5.001450e+07           1.000000  ...           5.000000                5.0\n",
              "75%    5.001585e+07           4.000000  ...           5.000000                5.0\n",
              "max    5.001697e+07           5.000000  ...           5.000000                5.0\n",
              "\n",
              "[8 rows x 8 columns]"
            ]
          },
          "metadata": {
            "tags": []
          },
          "execution_count": 35
        }
      ]
    },
    {
      "cell_type": "code",
      "metadata": {
        "id": "J1pWj2Ydqxfd",
        "colab_type": "code",
        "colab": {
          "base_uri": "https://localhost:8080/",
          "height": 652
        },
        "outputId": "c6e68b32-3d4d-4cc7-dcff-aba8946266a4"
      },
      "source": [
        "arquivo.head()"
      ],
      "execution_count": 36,
      "outputs": [
        {
          "output_type": "execute_result",
          "data": {
            "text/html": [
              "<div>\n",
              "<style scoped>\n",
              "    .dataframe tbody tr th:only-of-type {\n",
              "        vertical-align: middle;\n",
              "    }\n",
              "\n",
              "    .dataframe tbody tr th {\n",
              "        vertical-align: top;\n",
              "    }\n",
              "\n",
              "    .dataframe thead th {\n",
              "        text-align: right;\n",
              "    }\n",
              "</style>\n",
              "<table border=\"1\" class=\"dataframe\">\n",
              "  <thead>\n",
              "    <tr style=\"text-align: right;\">\n",
              "      <th></th>\n",
              "      <th>Nome</th>\n",
              "      <th>Carimbo de data/hora</th>\n",
              "      <th>Matricula</th>\n",
              "      <th>Turno</th>\n",
              "      <th>1-Disciplina</th>\n",
              "      <th>1-Avalie de 1 a 5</th>\n",
              "      <th>1-Se desejar, registre eventuais críticas, elogios ou sugestões na caixa de texto abaixo.</th>\n",
              "      <th>2-Disciplina</th>\n",
              "      <th>2-Avalie de 1 a 5</th>\n",
              "      <th>2-Se desejar, registre eventuais críticas, elogios ou sugestões na caixa de texto abaixo.</th>\n",
              "      <th>3-Disciplina</th>\n",
              "      <th>3-Avalie de 1 a 5</th>\n",
              "      <th>3-Se desejar, registre eventuais críticas, elogios ou sugestões na caixa de texto abaixo.</th>\n",
              "      <th>4-Disciplina</th>\n",
              "      <th>4-Avalie de 1 a 5</th>\n",
              "      <th>4-Se desejar, registre eventuais críticas, elogios ou sugestões na caixa de texto abaixo.</th>\n",
              "      <th>5-Disciplina</th>\n",
              "      <th>5-Avalie de 1 a 5</th>\n",
              "      <th>5-Se desejar, registre eventuais críticas, elogios ou sugestões na caixa de texto abaixo.</th>\n",
              "      <th>6-Disciplina</th>\n",
              "      <th>6-Avalie de 1 a 5</th>\n",
              "      <th>6-Se desejar, registre eventuais críticas, elogios ou sugestões na caixa de texto abaixo.</th>\n",
              "      <th>7-Disciplina</th>\n",
              "      <th>7-Avalie de 1 a 5</th>\n",
              "      <th>7-Se desejar, registre eventuais críticas, elogios ou sugestões na caixa de texto abaixo.</th>\n",
              "    </tr>\n",
              "  </thead>\n",
              "  <tbody>\n",
              "    <tr>\n",
              "      <th>0</th>\n",
              "      <td>NaN</td>\n",
              "      <td>13/06/2019 14:29:47</td>\n",
              "      <td>NaN</td>\n",
              "      <td>Manhã</td>\n",
              "      <td>Álgebra Linear</td>\n",
              "      <td>5</td>\n",
              "      <td>NaN</td>\n",
              "      <td>Cálculo Diferencial e Integral II</td>\n",
              "      <td>5.0</td>\n",
              "      <td>NaN</td>\n",
              "      <td>Cálculo Vetorial e Geometria Analítica</td>\n",
              "      <td>5.0</td>\n",
              "      <td>NaN</td>\n",
              "      <td>Contabilidade de Custos de Produção</td>\n",
              "      <td>5.0</td>\n",
              "      <td>NaN</td>\n",
              "      <td>Pesquisa Operacional II</td>\n",
              "      <td>1.0</td>\n",
              "      <td>Professor não possui didática, procura desmere...</td>\n",
              "      <td>Planejamento e Controle da Produção</td>\n",
              "      <td>5.0</td>\n",
              "      <td>NaN</td>\n",
              "      <td>NaN</td>\n",
              "      <td>NaN</td>\n",
              "      <td>NaN</td>\n",
              "    </tr>\n",
              "    <tr>\n",
              "      <th>1</th>\n",
              "      <td>Adilaine Monteiro Ferreira</td>\n",
              "      <td>13/06/2019 15:01:46</td>\n",
              "      <td>50015077.0</td>\n",
              "      <td>Manhã</td>\n",
              "      <td>Pesquisa Operacional II</td>\n",
              "      <td>5</td>\n",
              "      <td>Matéria com ótimo entendimento e aprendizado.</td>\n",
              "      <td>Física Geral e Experimental III</td>\n",
              "      <td>3.0</td>\n",
              "      <td>NaN</td>\n",
              "      <td>NaN</td>\n",
              "      <td>NaN</td>\n",
              "      <td>NaN</td>\n",
              "      <td>NaN</td>\n",
              "      <td>NaN</td>\n",
              "      <td>NaN</td>\n",
              "      <td>NaN</td>\n",
              "      <td>NaN</td>\n",
              "      <td>NaN</td>\n",
              "      <td>NaN</td>\n",
              "      <td>NaN</td>\n",
              "      <td>NaN</td>\n",
              "      <td>NaN</td>\n",
              "      <td>NaN</td>\n",
              "      <td>NaN</td>\n",
              "    </tr>\n",
              "    <tr>\n",
              "      <th>2</th>\n",
              "      <td>Rayane Marmelo</td>\n",
              "      <td>13/06/2019 15:50:45</td>\n",
              "      <td>50016052.0</td>\n",
              "      <td>Manhã</td>\n",
              "      <td>Álgebra Linear</td>\n",
              "      <td>5</td>\n",
              "      <td>NaN</td>\n",
              "      <td>Cálculo Diferencial e Integral II</td>\n",
              "      <td>5.0</td>\n",
              "      <td>NaN</td>\n",
              "      <td>Desenho Técnico I</td>\n",
              "      <td>5.0</td>\n",
              "      <td>NaN</td>\n",
              "      <td>Física Geral e Experimental II</td>\n",
              "      <td>5.0</td>\n",
              "      <td>NaN</td>\n",
              "      <td>Programação de Computadores I</td>\n",
              "      <td>3.0</td>\n",
              "      <td>NaN</td>\n",
              "      <td>NaN</td>\n",
              "      <td>NaN</td>\n",
              "      <td>NaN</td>\n",
              "      <td>NaN</td>\n",
              "      <td>NaN</td>\n",
              "      <td>NaN</td>\n",
              "    </tr>\n",
              "    <tr>\n",
              "      <th>3</th>\n",
              "      <td>Lorrane Soares</td>\n",
              "      <td>14/06/2019 11:11:59</td>\n",
              "      <td>50015917.0</td>\n",
              "      <td>Manhã</td>\n",
              "      <td>Arranjo Físico Industrial</td>\n",
              "      <td>4</td>\n",
              "      <td>NaN</td>\n",
              "      <td>Ergonomia e Segurança do Trabalho</td>\n",
              "      <td>5.0</td>\n",
              "      <td>NaN</td>\n",
              "      <td>Pesquisa Operacional II</td>\n",
              "      <td>5.0</td>\n",
              "      <td>NaN</td>\n",
              "      <td>Orientação TCC I</td>\n",
              "      <td>4.0</td>\n",
              "      <td>NaN</td>\n",
              "      <td>Sistemas Produtivos</td>\n",
              "      <td>5.0</td>\n",
              "      <td>NaN</td>\n",
              "      <td>NaN</td>\n",
              "      <td>NaN</td>\n",
              "      <td>NaN</td>\n",
              "      <td>NaN</td>\n",
              "      <td>NaN</td>\n",
              "      <td>NaN</td>\n",
              "    </tr>\n",
              "    <tr>\n",
              "      <th>4</th>\n",
              "      <td>NaN</td>\n",
              "      <td>18/06/2019 11:14:03</td>\n",
              "      <td>NaN</td>\n",
              "      <td>Manhã</td>\n",
              "      <td>Cálculo Diferencial e Integral II</td>\n",
              "      <td>4</td>\n",
              "      <td>NaN</td>\n",
              "      <td>Desenho Técnico II</td>\n",
              "      <td>3.0</td>\n",
              "      <td>NaN</td>\n",
              "      <td>Física Geral e Experimental III</td>\n",
              "      <td>4.0</td>\n",
              "      <td>NaN</td>\n",
              "      <td>Mecânica Aplicada</td>\n",
              "      <td>4.0</td>\n",
              "      <td>NaN</td>\n",
              "      <td>Programação de Computadores I</td>\n",
              "      <td>3.0</td>\n",
              "      <td>NaN</td>\n",
              "      <td>Química Geral e Experimental</td>\n",
              "      <td>4.0</td>\n",
              "      <td>NaN</td>\n",
              "      <td>NaN</td>\n",
              "      <td>NaN</td>\n",
              "      <td>NaN</td>\n",
              "    </tr>\n",
              "  </tbody>\n",
              "</table>\n",
              "</div>"
            ],
            "text/plain": [
              "                         Nome  ... 7-Se desejar, registre eventuais críticas, elogios ou sugestões na caixa de texto abaixo.\n",
              "0                         NaN  ...                                                NaN                                       \n",
              "1  Adilaine Monteiro Ferreira  ...                                                NaN                                       \n",
              "2              Rayane Marmelo  ...                                                NaN                                       \n",
              "3              Lorrane Soares  ...                                                NaN                                       \n",
              "4                         NaN  ...                                                NaN                                       \n",
              "\n",
              "[5 rows x 25 columns]"
            ]
          },
          "metadata": {
            "tags": []
          },
          "execution_count": 36
        }
      ]
    },
    {
      "cell_type": "code",
      "metadata": {
        "id": "ywggaGSsrAl-",
        "colab_type": "code",
        "colab": {
          "base_uri": "https://localhost:8080/",
          "height": 1000
        },
        "outputId": "0c2541a0-dd98-4b25-ef55-12355736dea7"
      },
      "source": [
        "arquivo.tail(10)"
      ],
      "execution_count": 38,
      "outputs": [
        {
          "output_type": "execute_result",
          "data": {
            "text/html": [
              "<div>\n",
              "<style scoped>\n",
              "    .dataframe tbody tr th:only-of-type {\n",
              "        vertical-align: middle;\n",
              "    }\n",
              "\n",
              "    .dataframe tbody tr th {\n",
              "        vertical-align: top;\n",
              "    }\n",
              "\n",
              "    .dataframe thead th {\n",
              "        text-align: right;\n",
              "    }\n",
              "</style>\n",
              "<table border=\"1\" class=\"dataframe\">\n",
              "  <thead>\n",
              "    <tr style=\"text-align: right;\">\n",
              "      <th></th>\n",
              "      <th>Nome</th>\n",
              "      <th>Carimbo de data/hora</th>\n",
              "      <th>Matricula</th>\n",
              "      <th>Turno</th>\n",
              "      <th>1-Disciplina</th>\n",
              "      <th>1-Avalie de 1 a 5</th>\n",
              "      <th>1-Se desejar, registre eventuais críticas, elogios ou sugestões na caixa de texto abaixo.</th>\n",
              "      <th>2-Disciplina</th>\n",
              "      <th>2-Avalie de 1 a 5</th>\n",
              "      <th>2-Se desejar, registre eventuais críticas, elogios ou sugestões na caixa de texto abaixo.</th>\n",
              "      <th>3-Disciplina</th>\n",
              "      <th>3-Avalie de 1 a 5</th>\n",
              "      <th>3-Se desejar, registre eventuais críticas, elogios ou sugestões na caixa de texto abaixo.</th>\n",
              "      <th>4-Disciplina</th>\n",
              "      <th>4-Avalie de 1 a 5</th>\n",
              "      <th>4-Se desejar, registre eventuais críticas, elogios ou sugestões na caixa de texto abaixo.</th>\n",
              "      <th>5-Disciplina</th>\n",
              "      <th>5-Avalie de 1 a 5</th>\n",
              "      <th>5-Se desejar, registre eventuais críticas, elogios ou sugestões na caixa de texto abaixo.</th>\n",
              "      <th>6-Disciplina</th>\n",
              "      <th>6-Avalie de 1 a 5</th>\n",
              "      <th>6-Se desejar, registre eventuais críticas, elogios ou sugestões na caixa de texto abaixo.</th>\n",
              "      <th>7-Disciplina</th>\n",
              "      <th>7-Avalie de 1 a 5</th>\n",
              "      <th>7-Se desejar, registre eventuais críticas, elogios ou sugestões na caixa de texto abaixo.</th>\n",
              "    </tr>\n",
              "  </thead>\n",
              "  <tbody>\n",
              "    <tr>\n",
              "      <th>21</th>\n",
              "      <td>Nome Aluno 11</td>\n",
              "      <td>19/06/2019 10:58:57</td>\n",
              "      <td>50012110.0</td>\n",
              "      <td>Noite</td>\n",
              "      <td>Cálculo Diferencial e Integral III</td>\n",
              "      <td>1</td>\n",
              "      <td>NaN</td>\n",
              "      <td>Álgebra Linear</td>\n",
              "      <td>2.0</td>\n",
              "      <td>NaN</td>\n",
              "      <td>Análise de Impacto Ambiental</td>\n",
              "      <td>3.0</td>\n",
              "      <td>NaN</td>\n",
              "      <td>Transporte e Logística</td>\n",
              "      <td>4.0</td>\n",
              "      <td>NaN</td>\n",
              "      <td>NaN</td>\n",
              "      <td>NaN</td>\n",
              "      <td>NaN</td>\n",
              "      <td>NaN</td>\n",
              "      <td>NaN</td>\n",
              "      <td>NaN</td>\n",
              "      <td>NaN</td>\n",
              "      <td>NaN</td>\n",
              "      <td>NaN</td>\n",
              "    </tr>\n",
              "    <tr>\n",
              "      <th>22</th>\n",
              "      <td>Nome Aluno 12</td>\n",
              "      <td>19/06/2019 14:55:18</td>\n",
              "      <td>50013911.0</td>\n",
              "      <td>Noite</td>\n",
              "      <td>Pesquisa Operacional II</td>\n",
              "      <td>3</td>\n",
              "      <td>NaN</td>\n",
              "      <td>Gestão Estratégica da Produção</td>\n",
              "      <td>2.0</td>\n",
              "      <td>NaN</td>\n",
              "      <td>Sistemas de Garantia da Qualidade</td>\n",
              "      <td>3.0</td>\n",
              "      <td>NaN</td>\n",
              "      <td>Engenharia Econômica e Financeira</td>\n",
              "      <td>4.0</td>\n",
              "      <td>NaN</td>\n",
              "      <td>Sistemas Produtivos</td>\n",
              "      <td>5.0</td>\n",
              "      <td>NaN</td>\n",
              "      <td>NaN</td>\n",
              "      <td>NaN</td>\n",
              "      <td>NaN</td>\n",
              "      <td>NaN</td>\n",
              "      <td>NaN</td>\n",
              "      <td>NaN</td>\n",
              "    </tr>\n",
              "    <tr>\n",
              "      <th>23</th>\n",
              "      <td>Nome Aluno 13</td>\n",
              "      <td>19/06/2019 16:09:04</td>\n",
              "      <td>50010544.0</td>\n",
              "      <td>Noite</td>\n",
              "      <td>Economia da Infra-Estrutura</td>\n",
              "      <td>1</td>\n",
              "      <td>NaN</td>\n",
              "      <td>Análise de Impacto Ambiental</td>\n",
              "      <td>2.0</td>\n",
              "      <td>NaN</td>\n",
              "      <td>Orientação TCC I</td>\n",
              "      <td>3.0</td>\n",
              "      <td>NaN</td>\n",
              "      <td>Redação Científica</td>\n",
              "      <td>4.0</td>\n",
              "      <td>NaN</td>\n",
              "      <td>Projeto do Produto</td>\n",
              "      <td>5.0</td>\n",
              "      <td>NaN</td>\n",
              "      <td>NaN</td>\n",
              "      <td>NaN</td>\n",
              "      <td>NaN</td>\n",
              "      <td>NaN</td>\n",
              "      <td>NaN</td>\n",
              "      <td>NaN</td>\n",
              "    </tr>\n",
              "    <tr>\n",
              "      <th>24</th>\n",
              "      <td>Nome Aluno 14</td>\n",
              "      <td>19/06/2019 16:39:05</td>\n",
              "      <td>50015827.0</td>\n",
              "      <td>Manhã</td>\n",
              "      <td>Equações Diferenciais</td>\n",
              "      <td>1</td>\n",
              "      <td>NaN</td>\n",
              "      <td>Física Geral e Experimental III</td>\n",
              "      <td>2.0</td>\n",
              "      <td>NaN</td>\n",
              "      <td>Mecânica Aplicada</td>\n",
              "      <td>3.0</td>\n",
              "      <td>NaN</td>\n",
              "      <td>Transporte e Logística</td>\n",
              "      <td>4.0</td>\n",
              "      <td>NaN</td>\n",
              "      <td>NaN</td>\n",
              "      <td>NaN</td>\n",
              "      <td>NaN</td>\n",
              "      <td>NaN</td>\n",
              "      <td>NaN</td>\n",
              "      <td>NaN</td>\n",
              "      <td>NaN</td>\n",
              "      <td>NaN</td>\n",
              "      <td>NaN</td>\n",
              "    </tr>\n",
              "    <tr>\n",
              "      <th>25</th>\n",
              "      <td>Nome Aluno 15</td>\n",
              "      <td>19/06/2019 16:44:21</td>\n",
              "      <td>50011902.0</td>\n",
              "      <td>Manhã</td>\n",
              "      <td>Análise de Decisões e Risco</td>\n",
              "      <td>1</td>\n",
              "      <td>NaN</td>\n",
              "      <td>Análise de Impacto Ambiental</td>\n",
              "      <td>2.0</td>\n",
              "      <td>NaN</td>\n",
              "      <td>Instituições de Direito</td>\n",
              "      <td>3.0</td>\n",
              "      <td>NaN</td>\n",
              "      <td>Orientação TCC II</td>\n",
              "      <td>4.0</td>\n",
              "      <td>NaN</td>\n",
              "      <td>Transporte e Logística</td>\n",
              "      <td>5.0</td>\n",
              "      <td>NaN</td>\n",
              "      <td>NaN</td>\n",
              "      <td>NaN</td>\n",
              "      <td>NaN</td>\n",
              "      <td>NaN</td>\n",
              "      <td>NaN</td>\n",
              "      <td>NaN</td>\n",
              "    </tr>\n",
              "    <tr>\n",
              "      <th>26</th>\n",
              "      <td>Nome Aluno 16</td>\n",
              "      <td>19/06/2019 17:31:28</td>\n",
              "      <td>50014470.0</td>\n",
              "      <td>Manhã</td>\n",
              "      <td>Cálculo Diferencial e Integral II</td>\n",
              "      <td>1</td>\n",
              "      <td>NaN</td>\n",
              "      <td>Física Geral e Experimental III</td>\n",
              "      <td>2.0</td>\n",
              "      <td>NaN</td>\n",
              "      <td>Programação de Computadores I</td>\n",
              "      <td>3.0</td>\n",
              "      <td>NaN</td>\n",
              "      <td>Planejamento e Controle da Produção</td>\n",
              "      <td>4.0</td>\n",
              "      <td>NaN</td>\n",
              "      <td>NaN</td>\n",
              "      <td>NaN</td>\n",
              "      <td>NaN</td>\n",
              "      <td>NaN</td>\n",
              "      <td>NaN</td>\n",
              "      <td>NaN</td>\n",
              "      <td>NaN</td>\n",
              "      <td>NaN</td>\n",
              "      <td>NaN</td>\n",
              "    </tr>\n",
              "    <tr>\n",
              "      <th>27</th>\n",
              "      <td>Nome Aluno 17</td>\n",
              "      <td>21/06/2019 08:42:45</td>\n",
              "      <td>NaN</td>\n",
              "      <td>Manhã</td>\n",
              "      <td>Probabilidade e Estatística</td>\n",
              "      <td>1</td>\n",
              "      <td>Fusce quis commodo mi. Sed eget quam in lacus ...</td>\n",
              "      <td>NaN</td>\n",
              "      <td>NaN</td>\n",
              "      <td>NaN</td>\n",
              "      <td>NaN</td>\n",
              "      <td>NaN</td>\n",
              "      <td>Fusce quis commodo mi. Sed eget quam in lacus ...</td>\n",
              "      <td>NaN</td>\n",
              "      <td>NaN</td>\n",
              "      <td>Fusce quis commodo mi. Sed eget quam in lacus ...</td>\n",
              "      <td>NaN</td>\n",
              "      <td>NaN</td>\n",
              "      <td>Fusce quis commodo mi. Sed eget quam in lacus ...</td>\n",
              "      <td>NaN</td>\n",
              "      <td>NaN</td>\n",
              "      <td>Fusce quis commodo mi. Sed eget quam in lacus ...</td>\n",
              "      <td>NaN</td>\n",
              "      <td>NaN</td>\n",
              "      <td>Fusce quis commodo mi. Sed eget quam in lacus ...</td>\n",
              "    </tr>\n",
              "    <tr>\n",
              "      <th>28</th>\n",
              "      <td>Nome Aluno 18</td>\n",
              "      <td>21/06/2019 11:44:20</td>\n",
              "      <td>50014701.0</td>\n",
              "      <td>Manhã</td>\n",
              "      <td>Pesquisa Operacional I</td>\n",
              "      <td>1</td>\n",
              "      <td>Ut commodo augue lacus, at dignissim dolor tin...</td>\n",
              "      <td>Gestão Estratégica da Produção</td>\n",
              "      <td>2.0</td>\n",
              "      <td>Fusce quis commodo mi. Sed eget quam in lacus ...</td>\n",
              "      <td>Engenharia Econômica e Financeira</td>\n",
              "      <td>3.0</td>\n",
              "      <td>Ut commodo augue lacus, at dignissim dolor tin...</td>\n",
              "      <td>Engenharia de Métodos</td>\n",
              "      <td>4.0</td>\n",
              "      <td>Ut commodo augue lacus, at dignissim dolor tin...</td>\n",
              "      <td>Transporte e Logística</td>\n",
              "      <td>5.0</td>\n",
              "      <td>Ut commodo augue lacus, at dignissim dolor tin...</td>\n",
              "      <td>NaN</td>\n",
              "      <td>NaN</td>\n",
              "      <td>Ut commodo augue lacus, at dignissim dolor tin...</td>\n",
              "      <td>NaN</td>\n",
              "      <td>NaN</td>\n",
              "      <td>Ut commodo augue lacus, at dignissim dolor tin...</td>\n",
              "    </tr>\n",
              "    <tr>\n",
              "      <th>29</th>\n",
              "      <td>Nome Aluno 19</td>\n",
              "      <td>25/06/2019 16:18:03</td>\n",
              "      <td>50014470.0</td>\n",
              "      <td>Manhã</td>\n",
              "      <td>Cálculo Diferencial e Integral II</td>\n",
              "      <td>1</td>\n",
              "      <td>NaN</td>\n",
              "      <td>Física Geral e Experimental III</td>\n",
              "      <td>2.0</td>\n",
              "      <td>Ut commodo augue lacus, at dignissim dolor tin...</td>\n",
              "      <td>Programação de Computadores I</td>\n",
              "      <td>3.0</td>\n",
              "      <td>NaN</td>\n",
              "      <td>Planejamento e Controle da Produção</td>\n",
              "      <td>4.0</td>\n",
              "      <td>NaN</td>\n",
              "      <td>NaN</td>\n",
              "      <td>NaN</td>\n",
              "      <td>NaN</td>\n",
              "      <td>NaN</td>\n",
              "      <td>NaN</td>\n",
              "      <td>NaN</td>\n",
              "      <td>NaN</td>\n",
              "      <td>NaN</td>\n",
              "      <td>NaN</td>\n",
              "    </tr>\n",
              "    <tr>\n",
              "      <th>30</th>\n",
              "      <td>Nome Aluno 20</td>\n",
              "      <td>25/06/2019 22:49:31</td>\n",
              "      <td>50011204.0</td>\n",
              "      <td>Manhã</td>\n",
              "      <td>Trabalho de Conclusão do Curso II</td>\n",
              "      <td>1</td>\n",
              "      <td>Ut commodo augue lacus, at dignissim dolor tin...</td>\n",
              "      <td>NaN</td>\n",
              "      <td>NaN</td>\n",
              "      <td>NaN</td>\n",
              "      <td>NaN</td>\n",
              "      <td>NaN</td>\n",
              "      <td>Ut commodo augue lacus, at dignissim dolor tin...</td>\n",
              "      <td>NaN</td>\n",
              "      <td>NaN</td>\n",
              "      <td>Ut commodo augue lacus, at dignissim dolor tin...</td>\n",
              "      <td>NaN</td>\n",
              "      <td>NaN</td>\n",
              "      <td>Ut commodo augue lacus, at dignissim dolor tin...</td>\n",
              "      <td>NaN</td>\n",
              "      <td>NaN</td>\n",
              "      <td>Ut commodo augue lacus, at dignissim dolor tin...</td>\n",
              "      <td>NaN</td>\n",
              "      <td>NaN</td>\n",
              "      <td>Ut commodo augue lacus, at dignissim dolor tin...</td>\n",
              "    </tr>\n",
              "  </tbody>\n",
              "</table>\n",
              "</div>"
            ],
            "text/plain": [
              "             Nome  ... 7-Se desejar, registre eventuais críticas, elogios ou sugestões na caixa de texto abaixo.\n",
              "21  Nome Aluno 11  ...                                                NaN                                       \n",
              "22  Nome Aluno 12  ...                                                NaN                                       \n",
              "23  Nome Aluno 13  ...                                                NaN                                       \n",
              "24  Nome Aluno 14  ...                                                NaN                                       \n",
              "25  Nome Aluno 15  ...                                                NaN                                       \n",
              "26  Nome Aluno 16  ...                                                NaN                                       \n",
              "27  Nome Aluno 17  ...  Fusce quis commodo mi. Sed eget quam in lacus ...                                       \n",
              "28  Nome Aluno 18  ...  Ut commodo augue lacus, at dignissim dolor tin...                                       \n",
              "29  Nome Aluno 19  ...                                                NaN                                       \n",
              "30  Nome Aluno 20  ...  Ut commodo augue lacus, at dignissim dolor tin...                                       \n",
              "\n",
              "[10 rows x 25 columns]"
            ]
          },
          "metadata": {
            "tags": []
          },
          "execution_count": 38
        }
      ]
    },
    {
      "cell_type": "code",
      "metadata": {
        "id": "F7iyrM-DrYv9",
        "colab_type": "code",
        "colab": {}
      },
      "source": [
        "avaliacao = arquivo['Nome']"
      ],
      "execution_count": 0,
      "outputs": []
    },
    {
      "cell_type": "code",
      "metadata": {
        "id": "w2Y_GYx5r077",
        "colab_type": "code",
        "colab": {
          "base_uri": "https://localhost:8080/",
          "height": 121
        },
        "outputId": "d1169785-4b7b-43b4-a29e-be9c2f1c4a9d"
      },
      "source": [
        "avaliacao['1-Disciplina'] = arquivo['1-Disciplina']"
      ],
      "execution_count": 42,
      "outputs": [
        {
          "output_type": "stream",
          "text": [
            "/usr/local/lib/python3.6/dist-packages/ipykernel_launcher.py:1: SettingWithCopyWarning: \n",
            "A value is trying to be set on a copy of a slice from a DataFrame\n",
            "\n",
            "See the caveats in the documentation: https://pandas.pydata.org/pandas-docs/stable/user_guide/indexing.html#returning-a-view-versus-a-copy\n",
            "  \"\"\"Entry point for launching an IPython kernel.\n"
          ],
          "name": "stderr"
        }
      ]
    },
    {
      "cell_type": "code",
      "metadata": {
        "id": "lQumDMYLsClQ",
        "colab_type": "code",
        "colab": {
          "base_uri": "https://localhost:8080/",
          "height": 588
        },
        "outputId": "cab0c934-5818-4ed8-996d-ded390fae44d"
      },
      "source": [
        "avaliacao"
      ],
      "execution_count": 43,
      "outputs": [
        {
          "output_type": "execute_result",
          "data": {
            "text/plain": [
              "0                                                             NaN\n",
              "1                                      Adilaine Monteiro Ferreira\n",
              "2                                                  Rayane Marmelo\n",
              "3                                                  Lorrane Soares\n",
              "4                                                             NaN\n",
              "5                                          Felippe de souza brito\n",
              "6                                          Felippe de souza brito\n",
              "7                                           Marina Godoy da Rocha\n",
              "8                                     Isaque Junior Gomes de Lima\n",
              "9                                                          Rayane\n",
              "10                                                 Lindon Johnson\n",
              "11                                                   Nome Aluno 1\n",
              "12                                                   Nome Aluno 2\n",
              "13                                                   Nome Aluno 3\n",
              "14                                                   Nome Aluno 4\n",
              "15                                                   Nome Aluno 5\n",
              "16                                                   Nome Aluno 6\n",
              "17                                                   Nome Aluno 7\n",
              "18                                                   Nome Aluno 8\n",
              "19                                                   Nome Aluno 9\n",
              "20                                                  Nome Aluno 10\n",
              "21                                                  Nome Aluno 11\n",
              "22                                                  Nome Aluno 12\n",
              "23                                                  Nome Aluno 13\n",
              "24                                                  Nome Aluno 14\n",
              "25                                                  Nome Aluno 15\n",
              "26                                                  Nome Aluno 16\n",
              "27                                                  Nome Aluno 17\n",
              "28                                                  Nome Aluno 18\n",
              "29                                                  Nome Aluno 19\n",
              "30                                                  Nome Aluno 20\n",
              "1-Disciplina    0                         Álgebra Linear\n",
              "1    ...\n",
              "Name: Nome, dtype: object"
            ]
          },
          "metadata": {
            "tags": []
          },
          "execution_count": 43
        }
      ]
    },
    {
      "cell_type": "code",
      "metadata": {
        "id": "nH_0o1dQsXji",
        "colab_type": "code",
        "colab": {}
      },
      "source": [
        "arq2 = pd.read_excel(\"Email_Upload_Template_GC.xlsx\")"
      ],
      "execution_count": 0,
      "outputs": []
    },
    {
      "cell_type": "code",
      "metadata": {
        "id": "Tx3usfvptF1W",
        "colab_type": "code",
        "colab": {
          "base_uri": "https://localhost:8080/",
          "height": 136
        },
        "outputId": "8eea79c3-684d-4525-9397-bef6c6ce3de9"
      },
      "source": [
        "arq2"
      ],
      "execution_count": 45,
      "outputs": [
        {
          "output_type": "execute_result",
          "data": {
            "text/html": [
              "<div>\n",
              "<style scoped>\n",
              "    .dataframe tbody tr th:only-of-type {\n",
              "        vertical-align: middle;\n",
              "    }\n",
              "\n",
              "    .dataframe tbody tr th {\n",
              "        vertical-align: top;\n",
              "    }\n",
              "\n",
              "    .dataframe thead th {\n",
              "        text-align: right;\n",
              "    }\n",
              "</style>\n",
              "<table border=\"1\" class=\"dataframe\">\n",
              "  <thead>\n",
              "    <tr style=\"text-align: right;\">\n",
              "      <th></th>\n",
              "      <th>Email</th>\n",
              "    </tr>\n",
              "  </thead>\n",
              "  <tbody>\n",
              "    <tr>\n",
              "      <th>0</th>\n",
              "      <td>prof.alex.salgado@soulasalle.com.br</td>\n",
              "    </tr>\n",
              "    <tr>\n",
              "      <th>1</th>\n",
              "      <td>gabriel.rocha@soulasalle.com.br</td>\n",
              "    </tr>\n",
              "    <tr>\n",
              "      <th>2</th>\n",
              "      <td>leonardo.romariz@soulasalle.com.br</td>\n",
              "    </tr>\n",
              "  </tbody>\n",
              "</table>\n",
              "</div>"
            ],
            "text/plain": [
              "                                 Email\n",
              "0  prof.alex.salgado@soulasalle.com.br\n",
              "1      gabriel.rocha@soulasalle.com.br\n",
              "2   leonardo.romariz@soulasalle.com.br"
            ]
          },
          "metadata": {
            "tags": []
          },
          "execution_count": 45
        }
      ]
    },
    {
      "cell_type": "code",
      "metadata": {
        "id": "E2_KeU8YtHZw",
        "colab_type": "code",
        "colab": {}
      },
      "source": [
        ""
      ],
      "execution_count": 0,
      "outputs": []
    },
    {
      "cell_type": "markdown",
      "metadata": {
        "id": "1_79-FnitUvY",
        "colab_type": "text"
      },
      "source": [
        "Plotando graficos"
      ]
    },
    {
      "cell_type": "code",
      "metadata": {
        "id": "ROKkQ4hntWl2",
        "colab_type": "code",
        "colab": {}
      },
      "source": [
        "import matplotlib.pyplot as plt\n",
        "% matplotlib inline\n",
        "plt.style.use('ggplot')"
      ],
      "execution_count": 0,
      "outputs": []
    },
    {
      "cell_type": "code",
      "metadata": {
        "id": "mNKDcEm9tk1X",
        "colab_type": "code",
        "colab": {
          "base_uri": "https://localhost:8080/",
          "height": 354
        },
        "outputId": "08b51569-4328-4109-e779-31e8069c3a92"
      },
      "source": [
        "# Plot\n",
        "plt.figure(figsize = (15, 5))\n",
        "plt.plot(alunos['Nome'], alunos['AV1'])\n",
        "\n",
        "# Change features of the graph\n",
        "plt.title(\"Turma C\")\n",
        "plt.xlabel(\"Nome\")\n",
        "plt.ylabel(\"AV1\")\n",
        "plt.show()"
      ],
      "execution_count": 47,
      "outputs": [
        {
          "output_type": "display_data",
          "data": {
            "image/png": "[encoded data removed]",
            "text/plain": [
              "<Figure size 1080x360 with 1 Axes>"
            ]
          },
          "metadata": {
            "tags": []
          }
        }
      ]
    },
    {
      "cell_type": "code",
      "metadata": {
        "id": "sMUEkFBhtxCQ",
        "colab_type": "code",
        "colab": {
          "base_uri": "https://localhost:8080/",
          "height": 297
        },
        "outputId": "13332f52-5a76-49f4-b653-da1b184db4e5"
      },
      "source": [
        "disciplinas = arquivo.ix[:,:2]\n",
        "disciplinas.head(10)"
      ],
      "execution_count": 48,
      "outputs": [
        {
          "output_type": "error",
          "ename": "AttributeError",
          "evalue": "ignored",
          "traceback": [
            "\u001b[0;31m---------------------------------------------------------------------------\u001b[0m",
            "\u001b[0;31mAttributeError\u001b[0m                            Traceback (most recent call last)",
            "\u001b[0;32m<ipython-input-48-61495f9c2b78>\u001b[0m in \u001b[0;36m<module>\u001b[0;34m()\u001b[0m\n\u001b[0;32m----> 1\u001b[0;31m \u001b[0mdisciplinas\u001b[0m \u001b[0;34m=\u001b[0m \u001b[0marquivo\u001b[0m\u001b[0;34m.\u001b[0m\u001b[0mix\u001b[0m\u001b[0;34m[\u001b[0m\u001b[0;34m:\u001b[0m\u001b[0;34m,\u001b[0m\u001b[0;34m:\u001b[0m\u001b[0;36m2\u001b[0m\u001b[0;34m]\u001b[0m\u001b[0;34m\u001b[0m\u001b[0;34m\u001b[0m\u001b[0m\n\u001b[0m\u001b[1;32m      2\u001b[0m \u001b[0mdisciplinas\u001b[0m\u001b[0;34m.\u001b[0m\u001b[0mhead\u001b[0m\u001b[0;34m(\u001b[0m\u001b[0;36m10\u001b[0m\u001b[0;34m)\u001b[0m\u001b[0;34m\u001b[0m\u001b[0;34m\u001b[0m\u001b[0m\n",
            "\u001b[0;32m/usr/local/lib/python3.6/dist-packages/pandas/core/generic.py\u001b[0m in \u001b[0;36m__getattr__\u001b[0;34m(self, name)\u001b[0m\n\u001b[1;32m   5272\u001b[0m             \u001b[0;32mif\u001b[0m \u001b[0mself\u001b[0m\u001b[0;34m.\u001b[0m\u001b[0m_info_axis\u001b[0m\u001b[0;34m.\u001b[0m\u001b[0m_can_hold_identifiers_and_holds_name\u001b[0m\u001b[0;34m(\u001b[0m\u001b[0mname\u001b[0m\u001b[0;34m)\u001b[0m\u001b[0;34m:\u001b[0m\u001b[0;34m\u001b[0m\u001b[0;34m\u001b[0m\u001b[0m\n\u001b[1;32m   5273\u001b[0m                 \u001b[0;32mreturn\u001b[0m \u001b[0mself\u001b[0m\u001b[0;34m[\u001b[0m\u001b[0mname\u001b[0m\u001b[0;34m]\u001b[0m\u001b[0;34m\u001b[0m\u001b[0;34m\u001b[0m\u001b[0m\n\u001b[0;32m-> 5274\u001b[0;31m             \u001b[0;32mreturn\u001b[0m \u001b[0mobject\u001b[0m\u001b[0;34m.\u001b[0m\u001b[0m__getattribute__\u001b[0m\u001b[0;34m(\u001b[0m\u001b[0mself\u001b[0m\u001b[0;34m,\u001b[0m \u001b[0mname\u001b[0m\u001b[0;34m)\u001b[0m\u001b[0;34m\u001b[0m\u001b[0;34m\u001b[0m\u001b[0m\n\u001b[0m\u001b[1;32m   5275\u001b[0m \u001b[0;34m\u001b[0m\u001b[0m\n\u001b[1;32m   5276\u001b[0m     \u001b[0;32mdef\u001b[0m \u001b[0m__setattr__\u001b[0m\u001b[0;34m(\u001b[0m\u001b[0mself\u001b[0m\u001b[0;34m,\u001b[0m \u001b[0mname\u001b[0m\u001b[0;34m:\u001b[0m \u001b[0mstr\u001b[0m\u001b[0;34m,\u001b[0m \u001b[0mvalue\u001b[0m\u001b[0;34m)\u001b[0m \u001b[0;34m->\u001b[0m \u001b[0;32mNone\u001b[0m\u001b[0;34m:\u001b[0m\u001b[0;34m\u001b[0m\u001b[0;34m\u001b[0m\u001b[0m\n",
            "\u001b[0;31mAttributeError\u001b[0m: 'DataFrame' object has no attribute 'ix'"
          ]
        }
      ]
    },
    {
      "cell_type": "code",
      "metadata": {
        "id": "k50Wp6JLuUzh",
        "colab_type": "code",
        "colab": {}
      },
      "source": [
        ""
      ],
      "execution_count": 0,
      "outputs": []
    }
  ]
}